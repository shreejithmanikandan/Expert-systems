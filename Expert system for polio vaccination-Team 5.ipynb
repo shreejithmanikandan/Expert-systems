{
 "cells": [
  {
   "cell_type": "markdown",
   "id": "10e3c527",
   "metadata": {},
   "source": [
    "# EXPERT SYSTEMS"
   ]
  },
  {
   "cell_type": "code",
   "execution_count": 2,
   "id": "a25873d8",
   "metadata": {},
   "outputs": [
    {
     "name": "stdout",
     "output_type": "stream",
     "text": [
      "Welcome to the Polio vaccination form\n",
      "Please enter your name: Pavan shreejith\n",
      "Please enter your age: 18\n",
      "For the following questions, please enter either 'yes' or 'no'\n",
      "Have you received your polio vaccine dose(s)? yes\n",
      "Have you traveled to a polio-endemic country? no\n",
      "You are already vaccinated against polio.\n"
     ]
    }
   ],
   "source": [
    "print(\"Welcome to the Polio vaccination form\")\n",
    "name = input(\"Please enter your name: \")\n",
    "age = int(input(\"Please enter your age: \"))\n",
    "\n",
    "if age >= 1:\n",
    "    print(\"For the following questions, please enter either 'yes' or 'no'\")\n",
    "    vac = input(\"Have you received your polio vaccine dose(s)? \")\n",
    "    trip = input(\"Have you traveled to a polio-endemic country? \")\n",
    "else:\n",
    "    print(\"You are not old enough to get the vaccine.\")\n",
    "\n",
    "if vac == 'yes' and trip == 'no':\n",
    "    print(\"You are already vaccinated against polio.\")\n",
    "elif vac == 'no' and trip == 'no':\n",
    "    print(\"You can get your polio vaccine dose(s).\")\n",
    "elif trip == 'yes':\n",
    "    print(\"As you have traveled to a polio-endemic country, you may need additional doses of the polio vaccine. Please consult your doctor for more information.\")\n",
    "else:\n",
    "    print(\"Invalid input. Please enter either 'yes' or 'no'.\")\n"
   ]
  },
  {
   "cell_type": "code",
   "execution_count": null,
   "id": "2cbb0922",
   "metadata": {},
   "outputs": [],
   "source": []
  },
  {
   "cell_type": "code",
   "execution_count": null,
   "id": "b98f38df",
   "metadata": {},
   "outputs": [],
   "source": []
  },
  {
   "cell_type": "code",
   "execution_count": null,
   "id": "509a305b",
   "metadata": {},
   "outputs": [],
   "source": []
  }
 ],
 "metadata": {
  "kernelspec": {
   "display_name": "Python 3 (ipykernel)",
   "language": "python",
   "name": "python3"
  },
  "language_info": {
   "codemirror_mode": {
    "name": "ipython",
    "version": 3
   },
   "file_extension": ".py",
   "mimetype": "text/x-python",
   "name": "python",
   "nbconvert_exporter": "python",
   "pygments_lexer": "ipython3",
   "version": "3.9.16"
  }
 },
 "nbformat": 4,
 "nbformat_minor": 5
}
